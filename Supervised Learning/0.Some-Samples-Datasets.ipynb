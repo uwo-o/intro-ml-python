{
 "cells": [
  {
   "cell_type": "markdown",
   "metadata": {},
   "source": [
    "# Dependencias"
   ]
  },
  {
   "cell_type": "code",
   "execution_count": 1,
   "metadata": {},
   "outputs": [
    {
     "name": "stdout",
     "output_type": "stream",
     "text": [
      "Requirement already satisfied: numpy in /home/uwo/Learning/Introduction-to-Machine-Learning-with-Python/env/lib/python3.10/site-packages (2.2.2)\n",
      "Requirement already satisfied: scipy in /home/uwo/Learning/Introduction-to-Machine-Learning-with-Python/env/lib/python3.10/site-packages (1.15.1)\n",
      "Requirement already satisfied: matplotlib in /home/uwo/Learning/Introduction-to-Machine-Learning-with-Python/env/lib/python3.10/site-packages (3.10.0)\n",
      "Requirement already satisfied: pandas in /home/uwo/Learning/Introduction-to-Machine-Learning-with-Python/env/lib/python3.10/site-packages (2.2.3)\n",
      "Requirement already satisfied: mglearn in /home/uwo/Learning/Introduction-to-Machine-Learning-with-Python/env/lib/python3.10/site-packages (0.2.0)\n",
      "Requirement already satisfied: cycler>=0.10 in /home/uwo/Learning/Introduction-to-Machine-Learning-with-Python/env/lib/python3.10/site-packages (from matplotlib) (0.12.1)\n",
      "Requirement already satisfied: pyparsing>=2.3.1 in /home/uwo/Learning/Introduction-to-Machine-Learning-with-Python/env/lib/python3.10/site-packages (from matplotlib) (3.2.1)\n",
      "Requirement already satisfied: pillow>=8 in /home/uwo/Learning/Introduction-to-Machine-Learning-with-Python/env/lib/python3.10/site-packages (from matplotlib) (11.1.0)\n",
      "Requirement already satisfied: kiwisolver>=1.3.1 in /home/uwo/Learning/Introduction-to-Machine-Learning-with-Python/env/lib/python3.10/site-packages (from matplotlib) (1.4.8)\n",
      "Requirement already satisfied: contourpy>=1.0.1 in /home/uwo/Learning/Introduction-to-Machine-Learning-with-Python/env/lib/python3.10/site-packages (from matplotlib) (1.3.1)\n",
      "Requirement already satisfied: fonttools>=4.22.0 in /home/uwo/Learning/Introduction-to-Machine-Learning-with-Python/env/lib/python3.10/site-packages (from matplotlib) (4.56.0)\n",
      "Requirement already satisfied: packaging>=20.0 in /home/uwo/Learning/Introduction-to-Machine-Learning-with-Python/env/lib/python3.10/site-packages (from matplotlib) (24.2)\n",
      "Requirement already satisfied: python-dateutil>=2.7 in /home/uwo/Learning/Introduction-to-Machine-Learning-with-Python/env/lib/python3.10/site-packages (from matplotlib) (2.9.0.post0)\n",
      "Requirement already satisfied: tzdata>=2022.7 in /home/uwo/Learning/Introduction-to-Machine-Learning-with-Python/env/lib/python3.10/site-packages (from pandas) (2025.1)\n",
      "Requirement already satisfied: pytz>=2020.1 in /home/uwo/Learning/Introduction-to-Machine-Learning-with-Python/env/lib/python3.10/site-packages (from pandas) (2025.1)\n",
      "Requirement already satisfied: imageio in /home/uwo/Learning/Introduction-to-Machine-Learning-with-Python/env/lib/python3.10/site-packages (from mglearn) (2.37.0)\n",
      "Requirement already satisfied: joblib in /home/uwo/Learning/Introduction-to-Machine-Learning-with-Python/env/lib/python3.10/site-packages (from mglearn) (1.4.2)\n",
      "Requirement already satisfied: scikit-learn in /home/uwo/Learning/Introduction-to-Machine-Learning-with-Python/env/lib/python3.10/site-packages (from mglearn) (1.6.1)\n",
      "Requirement already satisfied: six>=1.5 in /home/uwo/Learning/Introduction-to-Machine-Learning-with-Python/env/lib/python3.10/site-packages (from python-dateutil>=2.7->matplotlib) (1.17.0)\n",
      "Requirement already satisfied: threadpoolctl>=3.1.0 in /home/uwo/Learning/Introduction-to-Machine-Learning-with-Python/env/lib/python3.10/site-packages (from scikit-learn->mglearn) (3.5.0)\n"
     ]
    }
   ],
   "source": [
    "import sys\n",
    "!{sys.executable} -m pip install numpy scipy matplotlib pandas mglearn"
   ]
  }
 ],
 "metadata": {
  "kernelspec": {
   "display_name": "env",
   "language": "python",
   "name": "python3"
  },
  "language_info": {
   "codemirror_mode": {
    "name": "ipython",
    "version": 3
   },
   "file_extension": ".py",
   "mimetype": "text/x-python",
   "name": "python",
   "nbconvert_exporter": "python",
   "pygments_lexer": "ipython3",
   "version": "3.10.12"
  }
 },
 "nbformat": 4,
 "nbformat_minor": 2
}
